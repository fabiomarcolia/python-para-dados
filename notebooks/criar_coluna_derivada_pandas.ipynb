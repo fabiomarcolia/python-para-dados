{
  "nbformat": 4,
  "nbformat_minor": 0,
  "metadata": {
    "colab": {
      "provenance": [],
      "authorship_tag": "ABX9TyMN9Q1VvH4DhJ7MOckV8SPj",
      "include_colab_link": true
    },
    "kernelspec": {
      "name": "python3",
      "display_name": "Python 3"
    },
    "language_info": {
      "name": "python"
    }
  },
  "cells": [
    {
      "cell_type": "markdown",
      "metadata": {
        "id": "view-in-github",
        "colab_type": "text"
      },
      "source": [
        "<a href=\"https://colab.research.google.com/github/fabiomarcolia/python-para-dados/blob/main/notebooks/criar_coluna_derivada_pandas.ipynb\" target=\"_parent\"><img src=\"https://colab.research.google.com/assets/colab-badge.svg\" alt=\"Open In Colab\"/></a>"
      ]
    },
    {
      "cell_type": "code",
      "execution_count": null,
      "metadata": {
        "id": "itrCurR7gkqq"
      },
      "outputs": [],
      "source": [
        "import pandas as pd\n",
        "\n",
        "# Especifique o caminho do arquivo CSV\n",
        "file_path = r'c:\\download\\seu_arquivo.csv'\n",
        "\n",
        "# Leia o arquivo CSV\n",
        "df = pd.read_csv(file_path)\n",
        "\n",
        "# Adiciona uma nova coluna com o texto antes do primeiro ponto na 'coluna1'\n",
        "df['nova_coluna'] = df['coluna1'].str.split('.').str[0]\n",
        "\n",
        "# Retorne o dataframe para que o Power BI o importe\n",
        "df\n"
      ]
    }
  ]
}