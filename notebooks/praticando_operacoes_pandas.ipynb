{
  "cells": [
    {
      "cell_type": "markdown",
      "metadata": {
        "id": "view-in-github",
        "colab_type": "text"
      },
      "source": [
        "<a href=\"https://colab.research.google.com/github/fabiomarcolia/python-para-dados/blob/main/notebooks/praticando_operacoes_pandas.ipynb\" target=\"_parent\"><img src=\"https://colab.research.google.com/assets/colab-badge.svg\" alt=\"Open In Colab\"/></a>"
      ]
    },
    {
      "cell_type": "markdown",
      "id": "280d1043",
      "metadata": {
        "id": "280d1043"
      },
      "source": [
        "\n",
        "# Prática com Pandas:\n",
        "- Data Importing\n",
        "- Data Cleaning\n",
        "- Data Statistics\n",
        "\n",
        "Este notebook contém exemplos práticos para trabalhar com funções de **Pandas** relacionadas a importação de dados, limpeza e estatísticas. Cada função será explicada e mostrada em ação.\n",
        "\n"
      ]
    },
    {
      "cell_type": "code",
      "execution_count": null,
      "id": "485ee3ef",
      "metadata": {
        "id": "485ee3ef"
      },
      "outputs": [],
      "source": [
        "# Ativando as bibliotecas necessárias\n",
        "import pandas as pd\n",
        "import numpy as np"
      ]
    },
    {
      "cell_type": "markdown",
      "id": "fceb4190",
      "metadata": {
        "id": "fceb4190"
      },
      "source": [
        "## 1. Data Importing\n",
        "Vamos importar os dados de um arquivo CSV e criar algumas estruturas de dados comuns em Pandas."
      ]
    },
    {
      "cell_type": "markdown",
      "id": "411c693c",
      "metadata": {
        "id": "411c693c"
      },
      "source": [
        "### pd.read_csv\n",
        "Lê um arquivo CSV para um DataFrame."
      ]
    },
    {
      "cell_type": "code",
      "execution_count": null,
      "id": "f752108d",
      "metadata": {
        "id": "f752108d"
      },
      "outputs": [],
      "source": [
        "df = pd.read_csv('https://github.com/fabiomarcolia/python-para-dados/raw/refs/heads/main/dados/operacoes_python.csv')\n",
        "display(df.head())"
      ]
    },
    {
      "cell_type": "markdown",
      "id": "1166a5f3",
      "metadata": {
        "id": "1166a5f3"
      },
      "source": [
        "### pd.read_excel\n",
        "Lê um arquivo Excel para um DataFrame."
      ]
    },
    {
      "cell_type": "code",
      "execution_count": null,
      "id": "3135b07a",
      "metadata": {
        "id": "3135b07a"
      },
      "outputs": [],
      "source": [
        "df_excel = pd.read_excel('https://github.com/fabiomarcolia/python-para-dados/raw/refs/heads/main/dados/Clientes.xlsx')\n",
        "display(df_excel.head())"
      ]
    },
    {
      "cell_type": "markdown",
      "id": "76c8a3be",
      "metadata": {
        "id": "76c8a3be"
      },
      "source": [
        "### pd.read_json\n",
        "Lê dados de um arquivo JSON."
      ]
    },
    {
      "cell_type": "code",
      "execution_count": null,
      "id": "71134187",
      "metadata": {
        "id": "71134187"
      },
      "outputs": [],
      "source": [
        "# Atenção: Este é um exemplo, altere o caminho com permissão de escrita -> c:\\Clientes.json\n",
        "df_json = pd.DataFrame({'Id': [1, 2], 'Nome': ['Alice', 'Bob']}).to_json('c:\\Clientes.json')\n",
        "df_json_loaded = pd.read_json('c:\\Clientes.json')\n",
        "display(df_json_loaded)"
      ]
    },
    {
      "cell_type": "markdown",
      "id": "8c2c78a5",
      "metadata": {
        "id": "8c2c78a5"
      },
      "source": [
        "### pd.read_html\n",
        "Lê uma tabela de uma página HTML."
      ]
    },
    {
      "cell_type": "code",
      "execution_count": null,
      "id": "01f4429b",
      "metadata": {
        "id": "01f4429b"
      },
      "outputs": [],
      "source": [
        "html_data = '''<table><tr><th>Id</th><th>Nome</th></tr><tr><td>1</td><td>Alice</td></tr><tr><td>2</td><td>Bob</td></tr></table>'''\n",
        "with open('COLOQUE UM CAMINHO COM ACESSO DE ESCRITA + O NOME DO ARQUITO HTML PARA CRIAR', 'w') as f:\n",
        "    f.write(html_data)\n",
        "df_html = pd.read_html('COLOQUE O CAMINHO DO ARQUIVO CRIADO ACIMA')[0]\n",
        "display(df_html)"
      ]
    },
    {
      "cell_type": "markdown",
      "id": "48a79585",
      "metadata": {
        "id": "48a79585"
      },
      "source": [
        "### pd.concat\n",
        "Concatena dois DataFrames."
      ]
    },
    {
      "cell_type": "code",
      "execution_count": null,
      "id": "61c24345",
      "metadata": {
        "id": "61c24345"
      },
      "outputs": [],
      "source": [
        "df_concatenated = pd.concat([df.head(5), df.tail(5)])\n",
        "display(df_concatenated)"
      ]
    },
    {
      "cell_type": "markdown",
      "id": "c1e38576",
      "metadata": {
        "id": "c1e38576"
      },
      "source": [
        "### pd.DataFrame\n",
        "Cria um DataFrame a partir de um dicionário."
      ]
    },
    {
      "cell_type": "code",
      "execution_count": null,
      "id": "8890d531",
      "metadata": {
        "id": "8890d531"
      },
      "outputs": [],
      "source": [
        "data = {'Id': [1, 2, 3], 'Nome': ['Ana', 'Bruno', 'Carlos']}\n",
        "df_from_dict = pd.DataFrame(data)\n",
        "display(df_from_dict)"
      ]
    },
    {
      "cell_type": "markdown",
      "id": "545b9914",
      "metadata": {
        "id": "545b9914"
      },
      "source": [
        "### pd.series\n",
        "Cria uma série de dados."
      ]
    },
    {
      "cell_type": "code",
      "execution_count": null,
      "id": "22bffccb",
      "metadata": {
        "id": "22bffccb"
      },
      "outputs": [],
      "source": [
        "serie = pd.Series([1, 2, 3, 4, 5], name='Numeros')\n",
        "display(serie)"
      ]
    },
    {
      "cell_type": "markdown",
      "id": "9095b4a5",
      "metadata": {
        "id": "9095b4a5"
      },
      "source": [
        "### pd.date_range\n",
        "Cria uma série de datas."
      ]
    },
    {
      "cell_type": "code",
      "execution_count": null,
      "id": "20046b11",
      "metadata": {
        "id": "20046b11"
      },
      "outputs": [],
      "source": [
        "datas = pd.date_range(start='2023-01-01', periods=5)\n",
        "display(datas)"
      ]
    },
    {
      "cell_type": "markdown",
      "id": "a3485c72",
      "metadata": {
        "id": "a3485c72"
      },
      "source": [
        "## 2. Data Cleaning\n",
        "Aplicaremos técnicas de limpeza de dados para tratar valores nulos, ordenar valores e realizar outras operações comuns de pré-processamento."
      ]
    },
    {
      "cell_type": "markdown",
      "id": "ca374a9b",
      "metadata": {
        "id": "ca374a9b"
      },
      "source": [
        "### pd.fillna\n",
        "Preenche valores nulos com um valor específico."
      ]
    },
    {
      "cell_type": "code",
      "execution_count": null,
      "id": "22956c83",
      "metadata": {
        "id": "22956c83"
      },
      "outputs": [],
      "source": [
        "df_filled = df.fillna({'Idade': df['Idade'].mean(), 'Salario': df['Salario'].mean()})\n",
        "display(df_filled)"
      ]
    },
    {
      "cell_type": "markdown",
      "id": "27006a29",
      "metadata": {
        "id": "27006a29"
      },
      "source": [
        "### pd.dropna\n",
        "Remove linhas com valores nulos."
      ]
    },
    {
      "cell_type": "code",
      "execution_count": null,
      "id": "fd4cbe1f",
      "metadata": {
        "id": "fd4cbe1f"
      },
      "outputs": [],
      "source": [
        "df_dropped = df.dropna()\n",
        "display(df_dropped)"
      ]
    },
    {
      "cell_type": "markdown",
      "id": "b4a5a23c",
      "metadata": {
        "id": "b4a5a23c"
      },
      "source": [
        "### pd.sort_values\n",
        "Ordena o DataFrame com base em uma coluna."
      ]
    },
    {
      "cell_type": "code",
      "execution_count": null,
      "id": "84dd50c1",
      "metadata": {
        "id": "84dd50c1"
      },
      "outputs": [],
      "source": [
        "df_sorted = df.sort_values(by='Nome')\n",
        "display(df_sorted)"
      ]
    },
    {
      "cell_type": "markdown",
      "id": "79ee4b1b",
      "metadata": {
        "id": "79ee4b1b"
      },
      "source": [
        "### pd.apply\n",
        "Aplica uma função a cada elemento de uma coluna."
      ]
    },
    {
      "cell_type": "code",
      "execution_count": null,
      "id": "25e4683f",
      "metadata": {
        "id": "25e4683f"
      },
      "outputs": [],
      "source": [
        "df['Idade_ajustada'] = df['Idade'].apply(lambda x: x + 1 if not np.isnan(x) else x)\n",
        "display(df)"
      ]
    },
    {
      "cell_type": "markdown",
      "id": "0052a5c2",
      "metadata": {
        "id": "0052a5c2"
      },
      "source": [
        "### pd.groupby\n",
        "Agrupa dados por uma coluna e aplica agregações."
      ]
    },
    {
      "cell_type": "code",
      "execution_count": null,
      "id": "002fed23",
      "metadata": {
        "id": "002fed23"
      },
      "outputs": [],
      "source": [
        "df_grouped = df.groupby('Cidade')['Salario'].mean()\n",
        "display(df_grouped)"
      ]
    },
    {
      "cell_type": "markdown",
      "id": "5faebb7a",
      "metadata": {
        "id": "5faebb7a"
      },
      "source": [
        "### pd.append\n",
        "Adiciona uma linha ao DataFrame."
      ]
    },
    {
      "cell_type": "code",
      "execution_count": null,
      "id": "6277503a",
      "metadata": {
        "id": "6277503a"
      },
      "outputs": [],
      "source": [
        "new_row = {'Id': 21, 'Nome': 'Victor', 'Idade': 25, 'Salario': 3100, 'Cidade': 'São Paulo', 'Departamento': 'TI'}\n",
        "df_appended = df.append(new_row, ignore_index=True)\n",
        "display(df_appended.tail())"
      ]
    },
    {
      "cell_type": "markdown",
      "id": "7d5ff517",
      "metadata": {
        "id": "7d5ff517"
      },
      "source": [
        "### pd.join\n",
        "Realiza um join entre DataFrames usando o índice."
      ]
    },
    {
      "cell_type": "code",
      "execution_count": null,
      "id": "e4f16563",
      "metadata": {
        "id": "e4f16563"
      },
      "outputs": [],
      "source": [
        "df_joined = df.set_index('Id').join(df_from_dict.set_index('Id'), lsuffix='_orig', rsuffix='_new')\n",
        "display(df_joined)"
      ]
    },
    {
      "cell_type": "markdown",
      "id": "29a87118",
      "metadata": {
        "id": "29a87118"
      },
      "source": [
        "### pd.rename\n",
        "Renomeia colunas do DataFrame."
      ]
    },
    {
      "cell_type": "code",
      "execution_count": null,
      "id": "24df80f3",
      "metadata": {
        "id": "24df80f3"
      },
      "outputs": [],
      "source": [
        "df_renamed = df.rename(columns={'Nome': 'Nome_Completo'})\n",
        "display(df_renamed)"
      ]
    },
    {
      "cell_type": "markdown",
      "id": "e7684446",
      "metadata": {
        "id": "e7684446"
      },
      "source": [
        "### pd.to_csv\n",
        "Exporta o DataFrame para um arquivo CSV."
      ]
    },
    {
      "cell_type": "code",
      "execution_count": null,
      "id": "5dafd139",
      "metadata": {
        "id": "5dafd139"
      },
      "outputs": [],
      "source": [
        "df.to_csv('/mnt/data/Pratica_Pandas_Operacoes_Exportado.csv', index=False)"
      ]
    },
    {
      "cell_type": "markdown",
      "id": "58204308",
      "metadata": {
        "id": "58204308"
      },
      "source": [
        "### pd.set_index\n",
        "Define uma coluna como índice do DataFrame."
      ]
    },
    {
      "cell_type": "code",
      "execution_count": null,
      "id": "9d9e801c",
      "metadata": {
        "id": "9d9e801c"
      },
      "outputs": [],
      "source": [
        "df_indexed = df.set_index('Id')\n",
        "display(df_indexed.head())"
      ]
    },
    {
      "cell_type": "markdown",
      "id": "70c8e8c8",
      "metadata": {
        "id": "70c8e8c8"
      },
      "source": [
        "## 3. Data Statistics\n",
        "Calcule estatísticas descritivas para entender melhor os dados."
      ]
    },
    {
      "cell_type": "markdown",
      "id": "29d8fdaf",
      "metadata": {
        "id": "29d8fdaf"
      },
      "source": [
        "### pd.head\n",
        "Exibe as primeiras linhas do DataFrame."
      ]
    },
    {
      "cell_type": "code",
      "execution_count": null,
      "id": "d32bdc0e",
      "metadata": {
        "id": "d32bdc0e"
      },
      "outputs": [],
      "source": [
        "display(df.head())"
      ]
    },
    {
      "cell_type": "markdown",
      "id": "0160e020",
      "metadata": {
        "id": "0160e020"
      },
      "source": [
        "### pd.tail\n",
        "Exibe as últimas linhas do DataFrame."
      ]
    },
    {
      "cell_type": "code",
      "execution_count": null,
      "id": "6d2005ee",
      "metadata": {
        "id": "6d2005ee"
      },
      "outputs": [],
      "source": [
        "display(df.tail())"
      ]
    },
    {
      "cell_type": "markdown",
      "id": "42ce029d",
      "metadata": {
        "id": "42ce029d"
      },
      "source": [
        "### pd.describe\n",
        "Retorna estatísticas descritivas do DataFrame."
      ]
    },
    {
      "cell_type": "code",
      "execution_count": null,
      "id": "a480ea18",
      "metadata": {
        "id": "a480ea18"
      },
      "outputs": [],
      "source": [
        "display(df.describe())"
      ]
    },
    {
      "cell_type": "markdown",
      "id": "a27f2984",
      "metadata": {
        "id": "a27f2984"
      },
      "source": [
        "### pd.info\n",
        "Mostra informações sobre o DataFrame."
      ]
    },
    {
      "cell_type": "code",
      "execution_count": null,
      "id": "a13f9d7b",
      "metadata": {
        "id": "a13f9d7b"
      },
      "outputs": [],
      "source": [
        "df.info()"
      ]
    },
    {
      "cell_type": "markdown",
      "id": "46559c5b",
      "metadata": {
        "id": "46559c5b"
      },
      "source": [
        "### pd.mean\n",
        "Calcula a média de uma coluna numérica."
      ]
    },
    {
      "cell_type": "code",
      "execution_count": null,
      "id": "21679a53",
      "metadata": {
        "id": "21679a53"
      },
      "outputs": [],
      "source": [
        "media_salario = df['Salario'].mean()\n",
        "print(f'Média do Salário: {media_salario}')"
      ]
    },
    {
      "cell_type": "markdown",
      "id": "92e0e544",
      "metadata": {
        "id": "92e0e544"
      },
      "source": [
        "### pd.median\n",
        "Calcula a mediana de uma coluna numérica."
      ]
    },
    {
      "cell_type": "code",
      "execution_count": null,
      "id": "176d1042",
      "metadata": {
        "id": "176d1042"
      },
      "outputs": [],
      "source": [
        "mediana_idade = df['Idade'].median()\n",
        "print(f'Mediana da Idade: {mediana_idade}')"
      ]
    },
    {
      "cell_type": "markdown",
      "id": "f4f97daa",
      "metadata": {
        "id": "f4f97daa"
      },
      "source": [
        "### pd.count\n",
        "Conta o número de valores não nulos em cada coluna."
      ]
    },
    {
      "cell_type": "code",
      "execution_count": null,
      "id": "7ee615e3",
      "metadata": {
        "id": "7ee615e3"
      },
      "outputs": [],
      "source": [
        "contagem = df.count()\n",
        "display(contagem)"
      ]
    },
    {
      "cell_type": "markdown",
      "id": "ce278249",
      "metadata": {
        "id": "ce278249"
      },
      "source": [
        "### pd.std\n",
        "Calcula o desvio padrão de uma coluna numérica."
      ]
    },
    {
      "cell_type": "code",
      "execution_count": null,
      "id": "6bb61de4",
      "metadata": {
        "id": "6bb61de4"
      },
      "outputs": [],
      "source": [
        "desvio_padrao_salario = df['Salario'].std()\n",
        "print(f'Desvio Padrão do Salário: {desvio_padrao_salario}')"
      ]
    },
    {
      "cell_type": "markdown",
      "id": "9f86b0d6",
      "metadata": {
        "id": "9f86b0d6"
      },
      "source": [
        "### pd.max\n",
        "Retorna o valor máximo de uma coluna."
      ]
    },
    {
      "cell_type": "code",
      "execution_count": null,
      "id": "572a196e",
      "metadata": {
        "id": "572a196e"
      },
      "outputs": [],
      "source": [
        "max_salario = df['Salario'].max()\n",
        "print(f'Máximo Salário: {max_salario}')"
      ]
    },
    {
      "cell_type": "markdown",
      "id": "ec97a953",
      "metadata": {
        "id": "ec97a953"
      },
      "source": [
        "### pd.min\n",
        "Retorna o valor mínimo de uma coluna."
      ]
    },
    {
      "cell_type": "code",
      "execution_count": null,
      "id": "750b84c3",
      "metadata": {
        "id": "750b84c3"
      },
      "outputs": [],
      "source": [
        "min_idade = df['Idade'].min()\n",
        "print(f'Mínima Idade: {min_idade}')"
      ]
    },
    {
      "cell_type": "markdown",
      "source": [
        "# Outras formas que posso te ajudar:\n",
        "\n",
        "*   Fale comigo no Linkedin: https://www.linkedin.com/in/fabiomarcolia/\n",
        "\n",
        "*   Pratique SQL On-line: [e-Book Grátis](https://mentordados.gumroad.com/l/sql)\n",
        "*  [Inscreva-se](https://mentordados.substack.com/)  na Newsletter e tenha acesso a recursos:\n",
        " *  Currículo\n",
        " *  Portifólio\n",
        " *  SQL Roadmap\n",
        "\n",
        "\n",
        "\n",
        "\n",
        "\n",
        "\n"
      ],
      "metadata": {
        "id": "rkvyXJSkzc8V"
      },
      "id": "rkvyXJSkzc8V"
    },
    {
      "cell_type": "code",
      "source": [],
      "metadata": {
        "id": "5AV0NgDM1NCr"
      },
      "id": "5AV0NgDM1NCr",
      "execution_count": null,
      "outputs": []
    }
  ],
  "metadata": {
    "kernelspec": {
      "display_name": "base",
      "language": "python",
      "name": "python3"
    },
    "language_info": {
      "codemirror_mode": {
        "name": "ipython",
        "version": 3
      },
      "file_extension": ".py",
      "mimetype": "text/x-python",
      "name": "python",
      "nbconvert_exporter": "python",
      "pygments_lexer": "ipython3",
      "version": "3.9.13"
    },
    "colab": {
      "provenance": [],
      "include_colab_link": true
    }
  },
  "nbformat": 4,
  "nbformat_minor": 5
}