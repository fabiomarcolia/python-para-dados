{
  "nbformat": 4,
  "nbformat_minor": 0,
  "metadata": {
    "colab": {
      "provenance": [],
      "toc_visible": true,
      "authorship_tag": "ABX9TyMLMttCyhrPUOivm7Jt9P8o",
      "include_colab_link": true
    },
    "kernelspec": {
      "name": "python3",
      "display_name": "Python 3"
    },
    "language_info": {
      "name": "python"
    }
  },
  "cells": [
    {
      "cell_type": "markdown",
      "metadata": {
        "id": "view-in-github",
        "colab_type": "text"
      },
      "source": [
        "<a href=\"https://colab.research.google.com/github/fabiomarcolia/python-para-dados/blob/main/notebooks/pandas_processar_blocos.ipynb\" target=\"_parent\"><img src=\"https://colab.research.google.com/assets/colab-badge.svg\" alt=\"Open In Colab\"/></a>"
      ]
    },
    {
      "cell_type": "markdown",
      "source": [
        "### Ler o Arquivo"
      ],
      "metadata": {
        "id": "UYSCtCwwRzxC"
      }
    },
    {
      "cell_type": "markdown",
      "source": [
        "Este comando lê o arquivo CSV em pedaços de 10.000 linhas por vez, criando um iterador que gera DataFrames menores (os chunks) para cada pedaço do arquivo."
      ],
      "metadata": {
        "id": "I-jhDvSlR8-h"
      }
    },
    {
      "cell_type": "code",
      "source": [
        "chunks = pd.read_csv('large_dataset.csv', chunksize=10000)"
      ],
      "metadata": {
        "id": "avc161kpQ9qi"
      },
      "execution_count": null,
      "outputs": []
    },
    {
      "cell_type": "markdown",
      "source": [
        "### Processamento dos Chunks"
      ],
      "metadata": {
        "id": "wo_68Y1qQ_kf"
      }
    },
    {
      "cell_type": "markdown",
      "source": [
        "Aqui, cada chunk é processado dentro de um loop. A função process_chunk(chunk) seria onde você define a lógica específica de processamento que deseja aplicar a cada pedaço de dados, como limpeza, transformação, análise ou agregação."
      ],
      "metadata": {
        "id": "V7tFqjxzRhH8"
      }
    },
    {
      "cell_type": "code",
      "source": [
        "for chunk in chunks:\n",
        "    process_chunk(chunk)"
      ],
      "metadata": {
        "id": "pPUbeW9FRmxr"
      },
      "execution_count": null,
      "outputs": []
    },
    {
      "cell_type": "code",
      "source": [],
      "metadata": {
        "id": "Zp4Y1ajCS2Rt"
      },
      "execution_count": null,
      "outputs": []
    },
    {
      "cell_type": "markdown",
      "source": [
        "# Em resumo:\n",
        "Este código é extremamente útil para trabalhar com grandes volumes de dados, garantindo que o processamento seja gerenciável e eficiente, tanto em termos de memória quanto de tempo."
      ],
      "metadata": {
        "id": "Gl2Jzar4Szap"
      }
    }
  ]
}